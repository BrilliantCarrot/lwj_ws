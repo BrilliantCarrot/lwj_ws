{
 "cells": [
  {
   "cell_type": "code",
   "execution_count": 5,
   "metadata": {},
   "outputs": [],
   "source": [
    "from osgeo import gdal, osr\n",
    "import matplotlib.pyplot as plt\n",
    "import pandas as pd\n",
    "import numpy as np\n",
    "import csv\n",
    "from pyproj import Proj, transform\n",
    "import math"
   ]
  },
  {
   "cell_type": "code",
   "execution_count": 2,
   "metadata": {},
   "outputs": [],
   "source": [
    "# Enable GDAL exceptions\n",
    "gdal.UseExceptions()\n",
    "\n",
    "# Load DEM data\n",
    "# dem_file = 'C:/Users/leeyj/Downloads/Test_DEM.tif'\n",
    "dem_file = \"C:/Users/leeyj/OneDrive - 인하대학교/School/과제/[국방 수직이착륙기 특화연구센터(VTD-13)]/Test_DEM.tif\"\n",
    "dataset = gdal.Open(dem_file)\n",
    "band = dataset.GetRasterBand(1)\n",
    "elevation = band.ReadAsArray()\n",
    "\n",
    "# Get geotransform info\n",
    "geotransform = dataset.GetGeoTransform()\n",
    "\n",
    "# Initialize an empty list to store the data\n",
    "matrix = []\n",
    "\n",
    "# Calculate longitude, latitude, and elevation for each pixel\n",
    "for y in range(elevation.shape[0]):\n",
    "    row = []\n",
    "    for x in range(elevation.shape[1]):\n",
    "        longitude = geotransform[0] + x*geotransform[1] + y*geotransform[2]\n",
    "        latitude = geotransform[3] + x*geotransform[4] + y*geotransform[5]\n",
    "        elev = elevation[y, x]\n",
    "        row.append((elev, longitude, latitude))\n",
    "    matrix.append(row)\n",
    "\n",
    "# Convert the list to a NumPy array for more efficient operations and handling\n",
    "matrix_np = np.array(matrix)\n",
    "\n",
    "# Now `matrix_np` contains the elevation, longitude, and latitude for each pixel\n",
    "# matrix_np.shape"
   ]
  },
  {
   "cell_type": "code",
   "execution_count": 3,
   "metadata": {},
   "outputs": [],
   "source": [
    "# Since the state was reset and I don't actually have access to the file system to load a .tif file,\n",
    "# the previous code snippet will serve as a basis for demonstrating how to flip the matrix.\n",
    "# I'll recreate a simplified version of the `matrix_np` based on the code you mentioned,\n",
    "# and then apply the vertical flipping operation to it.\n",
    "\n",
    "# Simulating the creation of a matrix based on the provided code structure.\n",
    "# Let's assume a 5x5 matrix for simplicity.\n",
    "# rows, cols = 5, 5\n",
    "# geotransform = [0, 1, 0, 0, 0, -1]  # Simplified geotransform for demonstration\n",
    "# elevation = np.arange(rows * cols).reshape(rows, cols)  # Dummy elevation data\n",
    "\n",
    "# matrix = []\n",
    "\n",
    "# for y in range(elevation.shape[0]):\n",
    "#     row = []\n",
    "#     for x in range(elevation.shape[1]):\n",
    "#         longitude = geotransform[0] + x*geotransform[1] + y*geotransform[2]\n",
    "#         latitude = geotransform[3] + x*geotransform[4] + y*geotransform[5]\n",
    "#         elev = elevation[y, x]\n",
    "#         row.append((elev, longitude, latitude))\n",
    "#     matrix.append(row)\n",
    "\n",
    "# matrix_np = np.array(matrix)\n",
    "\n",
    "# Flip the matrix in the up/down direction to change the indexing scheme\n",
    "flipped_matrix_np = np.flipud(matrix_np)"
   ]
  },
  {
   "cell_type": "code",
   "execution_count": 4,
   "metadata": {},
   "outputs": [
    {
     "name": "stdout",
     "output_type": "stream",
     "text": [
      "[869.         126.99986111  39.00013889] [869.         126.99986111  39.00013889]\n",
      "[338.         127.99986111  38.00013889] [338.         127.99986111  38.00013889]\n",
      "[869.         126.99986111  39.00013889]\n",
      "[ 94.         126.99986111  38.00013889]\n"
     ]
    }
   ],
   "source": [
    "# Let's verify the transformation by checking the new positions of the first and last elements\n",
    "print(matrix_np[0, 0], flipped_matrix_np[3600, 0])\n",
    "print(matrix_np[-1, -1], flipped_matrix_np[0, -1])\n",
    "\n",
    "print(matrix_np[0, 0])\n",
    "\n",
    "print(flipped_matrix_np[0,0])"
   ]
  },
  {
   "cell_type": "code",
   "execution_count": null,
   "metadata": {},
   "outputs": [],
   "source": [
    "# Assuming `elevation` contains your elevation data as a 2D NumPy array\n",
    "plt.figure(figsize=(10, 10))\n",
    "plt.imshow(elevation, cmap='terrain')\n",
    "plt.colorbar(label='Elevation (m)')\n",
    "plt.title('DEM Elevation Map')\n",
    "plt.xlabel('Longitude Index')\n",
    "plt.ylabel('Latitude Index')\n",
    "plt.show()"
   ]
  },
  {
   "cell_type": "code",
   "execution_count": null,
   "metadata": {},
   "outputs": [],
   "source": [
    "# Assuming flipped_matrix contains the flipped data with tuples in the form of (elevation, longitude, latitude)\n",
    "# First, extract just the elevation data for visualization\n",
    "elevation_data_flipped = np.array([[cell[0] for cell in row] for row in flipped_matrix_np])\n",
    "\n",
    "# Plotting the elevation data\n",
    "plt.figure(figsize=(10, 10))\n",
    "plt.imshow(elevation_data_flipped, cmap='terrain')\n",
    "plt.colorbar(label='Elevation (m)')\n",
    "plt.title('Flipped DEM Elevation Map')\n",
    "plt.show()"
   ]
  },
  {
   "cell_type": "code",
   "execution_count": null,
   "metadata": {},
   "outputs": [],
   "source": [
    "# Assuming elevation_data_flipped is your 2D array of elevation data\n",
    "# Plotting the elevation data with adjusted origin and extent\n",
    "plt.figure(figsize=(10, 10))\n",
    "# Set the extent so that the plot matches your data's geographic extent.\n",
    "# The format is [left, right, bottom, top].\n",
    "# Here, we assume your data covers a grid of 3601x3601 starting from bottom-left as [0,0]\n",
    "plt.imshow(elevation_data_flipped, cmap='terrain', origin='lower', extent=(0.0, 3600.0, 0.0, 3600.00))\n",
    "\n",
    "plt.colorbar(label='Elevation (m)')\n",
    "plt.xlabel('Index X')\n",
    "plt.ylabel('Index Y')\n",
    "plt.title('Flipped DEM Elevation Map with Corrected Indices')\n",
    "plt.show()"
   ]
  },
  {
   "cell_type": "code",
   "execution_count": null,
   "metadata": {},
   "outputs": [],
   "source": [
    "# return Longitude, Latitude, Altitude of choen user input index \n",
    "def get_data_at_index(matrix, lon_index, lat_index):\n",
    "    \"\"\"\n",
    "    Retrieve elevation, longitude, and latitude data for a specific pixel in the matrix.\n",
    "    \n",
    "    Parameters:\n",
    "    - matrix: The data matrix containing tuples of (elevation, longitude, latitude).\n",
    "    - lon_index: The longitude index of the pixel.\n",
    "    - lat_index: The latitude index of the pixel.\n",
    "    \n",
    "    Returns:\n",
    "    - A tuple containing the elevation, longitude, and latitude of the specified pixel, or None if indices are out of bounds.\n",
    "    \"\"\"\n",
    "    # Check if the provided indices are within the bounds of the matrix\n",
    "    if lat_index >= 0 and lat_index < len(matrix) and lon_index >= 0 and lon_index < len(matrix[0]):\n",
    "        return matrix[lat_index][lon_index]\n",
    "    else:\n",
    "        return None"
   ]
  },
  {
   "cell_type": "code",
   "execution_count": null,
   "metadata": {},
   "outputs": [],
   "source": [
    "# Call function\n",
    "lon_index = 0\n",
    "lat_index = 0\n",
    "data_at_index = get_data_at_index(matrix_np, lon_index, lat_index)\n",
    "\n",
    "if data_at_index is not None:\n",
    "    print(f\"Elevation: {data_at_index[0]}, Longitude: {data_at_index[1]}, Latitude: {data_at_index[2]}\")\n",
    "else:\n",
    "    print(\"Invalid indices provided.\")"
   ]
  },
  {
   "cell_type": "code",
   "execution_count": null,
   "metadata": {},
   "outputs": [],
   "source": [
    "# Call function\n",
    "lon_index = 3600\n",
    "lat_index = 0\n",
    "data_at_index = get_data_at_index(flipped_matrix_np, 3600-lon_index, 3600-lat_index)\n",
    "\n",
    "if data_at_index is not None:\n",
    "    print(f\"Elevation: {data_at_index[0]}, Longitude: {data_at_index[1]}, Latitude: {data_at_index[2]}\")\n",
    "else:\n",
    "    print(\"Invalid indices provided.\")"
   ]
  },
  {
   "cell_type": "code",
   "execution_count": null,
   "metadata": {},
   "outputs": [],
   "source": [
    "# return maximum index of Longitude and Latitude\n",
    "# Assuming `matrix_np` is your NumPy matrix\n",
    "lat_max_index, lon_max_index = matrix_np.shape[0] - 1, matrix_np.shape[1] - 1\n",
    "\n",
    "print(f\"Maximum Latitude Index: {lat_max_index}\")\n",
    "print(f\"Maximum Longitude Index: {lon_max_index}\")"
   ]
  },
  {
   "cell_type": "code",
   "execution_count": null,
   "metadata": {},
   "outputs": [],
   "source": [
    "# saving DEM data to CSV format\n",
    "elevation_data = [[cell[0] for cell in row] for row in matrix_np]\n",
    "\n",
    "# Assuming longitude and latitude values are evenly spaced and can be derived from the indices\n",
    "lat_headers = [f\"Lat_{i}\" for i in range(matrix_np.shape[0])]\n",
    "lon_headers = [f\"Lon_{j}\" for j in range(matrix_np.shape[1])]\n",
    "\n",
    "# Convert elevation data to DataFrame\n",
    "df = pd.DataFrame(elevation_data, columns=lon_headers)\n",
    "\n",
    "# Optionally, if you want latitude values as the first column (as index)\n",
    "df.insert(0, 'Latitude', lat_headers)\n",
    "\n",
    "# Save to CSV\n",
    "df.to_csv('elevation_matrix.csv', index=False)"
   ]
  },
  {
   "cell_type": "code",
   "execution_count": null,
   "metadata": {},
   "outputs": [],
   "source": [
    "# Assuming matrix_np is your structured NumPy matrix with (elevation, longitude, latitude) for each cell\n",
    "# First, let's extract the elevation data\n",
    "elevation_data = [[cell[0] for cell in row] for row in matrix_np]\n",
    "\n",
    "# Extract longitude and latitude values for headers\n",
    "# For longitude, take the values from the first row\n",
    "longitude_values = [cell[1] for cell in matrix_np[0]]  # Assuming all rows have the same longitude values across\n",
    "\n",
    "# For latitude, take the latitude value of the last cell in each row\n",
    "latlon_values = [row[-1][2] for row in matrix_np]  # Assuming all columns have the same latitude values down\n",
    "\n",
    "# Convert elevation data into a DataFrame\n",
    "df_direct_headers = pd.DataFrame(elevation_data, columns=longitude_values)\n",
    "\n",
    "# Add latitude values as the first column of the DataFrame\n",
    "df_direct_headers.insert(0, 'Latitude/Longitude', latlon_values)\n",
    "\n",
    "# Save the DataFrame to a CSV file\n",
    "# csv_path_direct = 'C:/Users/leeyj/lab_ws/source'\n",
    "df_direct_headers.to_csv('NK_DEM.csv', index=False)\n",
    "\n",
    "# Note: Replace 'path/to/your/elevation_matrix_direct_headers.csv' with your desired file path"
   ]
  },
  {
   "cell_type": "code",
   "execution_count": null,
   "metadata": {},
   "outputs": [],
   "source": [
    "# # Path where you want to save the file\n",
    "# file_path = 'flipped_matrix.txt'\n",
    "\n",
    "# # Open the file in write mode\n",
    "# with open(file_path, 'w') as file:\n",
    "#     # Iterate over each row in the flipped_matrix\n",
    "#     for row in flipped_matrix_np:\n",
    "#         # For each cell in the row, format the data as \"[longitude, latitude, elevation]\"\n",
    "#         formatted_row = [f\"{cell[1]}, {cell[2]}, {cell[0]}\" for cell in row]\n",
    "#         # Join the formatted cell data with commas and write it as a new line in the file\n",
    "#         file.write(','.join(formatted_row) + '\\n')\n",
    "\n",
    "# print(\"File has been saved successfully.\")"
   ]
  },
  {
   "cell_type": "markdown",
   "metadata": {},
   "source": [
    "인덱스가 바뀌어진 북한 지형 DEM 파일을 저장"
   ]
  },
  {
   "cell_type": "code",
   "execution_count": null,
   "metadata": {},
   "outputs": [],
   "source": [
    "# Path where you want to save the CSV file\n",
    "csv_file_path = 'C:/Users/leeyj/lab_ws/data/North_Korea_Flipped_DEM.csv'\n",
    "# Open the file in write mode\n",
    "with open(csv_file_path, 'w', newline='') as csvfile:\n",
    "    # Create a CSV writer object\n",
    "    csvwriter = csv.writer(csvfile)\n",
    "    \n",
    "    # Iterate over each cell in the flipped_matrix and write the formatted data to the CSV file\n",
    "    for row in flipped_matrix_np:\n",
    "        formatted_row = [f\"{cell[1]}, {cell[2]}, {cell[0]}\" for cell in row]  # Format: [longitude, latitude, elevation]\n",
    "        csvwriter.writerow(formatted_row)\n",
    "\n",
    "print(\"CSV file has been saved successfully.\")"
   ]
  },
  {
   "cell_type": "code",
   "execution_count": null,
   "metadata": {},
   "outputs": [],
   "source": [
    "# Step 1: Load the CSV data\n",
    "csv_path = 'C:/Users/leeyj/lab_ws/data/NK_DEM.csv'\n",
    "df = pd.read_csv(csv_path)\n",
    "\n",
    "df"
   ]
  },
  {
   "cell_type": "code",
   "execution_count": null,
   "metadata": {},
   "outputs": [],
   "source": [
    "# latitudes = df['Latitude/Longitude'].values\n",
    "# longitudes = df.columns[1:].astype(float)  # Convert longitude headers to float\n",
    "# elevation_data = df.drop('Latitude/Longitude', axis=1).values"
   ]
  },
  {
   "cell_type": "code",
   "execution_count": null,
   "metadata": {},
   "outputs": [],
   "source": [
    "# # Step 2: Create a new GeoTIFF file\n",
    "# driver = gdal.GetDriverByName('GTiff')\n",
    "# dst_filename = 'path/to/your/new_dem.tif'\n",
    "# # Here we use the shape of the loaded CSV data to determine raster size\n",
    "# dataset = driver.Create(dst_filename, len(longitudes), len(latitudes), 1, gdal.GDT_Float32)\n",
    "\n",
    "# # Define the geotransform (this would need to match your original DEM's spatial reference)\n",
    "# # This is a placeholder example. You'd need to use the actual values from your DEM.\n",
    "# dataset.SetGeoTransform([longitudes.min(), (longitudes.max() - longitudes.min()) / len(longitudes), 0, latitudes.max(), 0, -(latitudes.max() - latitudes.min()) / len(latitudes)])\n",
    "\n",
    "# # Set the projection (this should also match your original DEM)\n",
    "# srs = osr.SpatialReference()\n",
    "# srs.ImportFromEPSG(4326)  # This uses WGS84, but you should use your DEM's projection\n",
    "# dataset.SetProjection(srs.ExportToWkt())\n",
    "\n",
    "# # Step 3: Write the elevation data to the new raster\n",
    "# band = dataset.GetRasterBand(1)\n",
    "# band.WriteArray(elevation_data)\n",
    "\n",
    "# # Don't forget to flush data to disk\n",
    "# band.FlushCache()\n",
    "# dataset = None\n",
    "\n",
    "# # Step 4: Visualize the raster\n",
    "# # This step reuses the previous visualization example\n",
    "# dataset = gdal.Open(dst_filename)\n",
    "# band = dataset.GetRasterBand(1)\n",
    "# elevation = band.ReadAsArray()\n",
    "\n",
    "# plt.figure(figsize=(10, 10))\n",
    "# plt.imshow(elevation, cmap='terrain')\n",
    "# plt.colorbar(label='Elevation (m)')\n",
    "# plt.title('Reconstructed DEM Elevation Map')\n",
    "# plt.show()"
   ]
  },
  {
   "cell_type": "markdown",
   "metadata": {},
   "source": [
    "데이터의 Index를 변환   \n",
    "좌상단 Index 0,0이 좌하단 0,0로 옮겨지며 우하단 3600,3600 Index가 우상단 3600,3600으로 이동"
   ]
  },
  {
   "cell_type": "code",
   "execution_count": null,
   "metadata": {},
   "outputs": [],
   "source": [
    "# Assuming you have a matrix 'original_matrix' structured with 3601x3601 dimensions\n",
    "# For demonstration, let's create a dummy 5x5 matrix where each element is a tuple of (altitude, longitude, latitude)\n",
    "original_matrix = np.array([[(100 + i + j, 30 + 0.01*j, -90 - 0.01*i) for j in range(5)] for i in range(5)])\n",
    "\n",
    "# Flip the matrix in the up/down direction\n",
    "flipped_matrix = np.flipud(original_matrix)\n",
    "\n",
    "# Example: Print the original and flipped matrix indices [0,0] to see the change\n",
    "print(\"Original [0,0]:\", original_matrix[0,0])\n",
    "print(\"Flipped [0,0]:\", flipped_matrix[0,0])"
   ]
  },
  {
   "cell_type": "code",
   "execution_count": null,
   "metadata": {},
   "outputs": [],
   "source": [
    "# Initialize the WGS-84 and Lambert Conformal Conic projections\n",
    "wgs84 = Proj(init='epsg:4326')  # WGS-84\n",
    "lambert_conformal_conic = Proj(proj='lcc', lat_1=33, lat_2=45, lon_0=-95, ellps='WGS84')  # Example parameters\n",
    "\n",
    "# Function to transform coordinates\n",
    "def transform_coordinates(matrix_np):\n",
    "    transformed_matrix = np.empty(matrix_np.shape, dtype=object)\n",
    "    for y in range(matrix_np.shape[0]):\n",
    "        for x in range(matrix_np.shape[1]):\n",
    "            elev, lon, lat = matrix_np[y, x]\n",
    "            # Transform the longitude and latitude\n",
    "            lon_lcc, lat_lcc = transform(wgs84, lambert_conformal_conic, lon, lat)\n",
    "            # Store the transformed coordinates along with the elevation\n",
    "            transformed_matrix[y, x] = (elev, lon_lcc, lat_lcc)\n",
    "    return transformed_matrix\n",
    "\n",
    "# Assuming `matrix_np` is already loaded with your DEM data\n",
    "transformed_matrix_np = transform_coordinates(matrix_np)"
   ]
  },
  {
   "cell_type": "code",
   "execution_count": null,
   "metadata": {},
   "outputs": [],
   "source": [
    "# Constants for the Lambert Conformal Conic Projection\n",
    "# These should be adjusted according to your specific needs or study area\n",
    "lat_1 = 33  # First standard parallel\n",
    "lat_2 = 45  # Second standard parallel\n",
    "lon_0 = -95  # Central meridian\n",
    "R = 6371000  # Radius of the Earth in meters (approximation)\n",
    "\n",
    "# Convert degrees to radians\n",
    "def deg_to_rad(deg):\n",
    "    return deg * math.pi / 180\n",
    "\n",
    "# Calculation of projection constants\n",
    "def calculate_constants(lat_1, lat_2):\n",
    "    lat_1_rad = deg_to_rad(lat_1)\n",
    "    lat_2_rad = deg_to_rad(lat_2)\n",
    "    \n",
    "    n = math.log(math.cos(lat_1_rad) / math.cos(lat_2_rad)) / \\\n",
    "        math.log(math.tan(math.pi / 4 + lat_2_rad / 2) / math.tan(math.pi / 4 + lat_1_rad / 2))\n",
    "    F = (math.cos(lat_1_rad) * math.pow(math.tan(math.pi / 4 + lat_1_rad / 2), n)) / n\n",
    "    rho_0 = R * F * math.pow(math.tan(math.pi / 4 + deg_to_rad(90) / 2), -n)\n",
    "    \n",
    "    return n, F, rho_0\n",
    "\n",
    "n, F, rho_0 = calculate_constants(lat_1, lat_2)\n",
    "\n",
    "# Function to transform longitude and latitude to Lambert Conformal Conic\n",
    "def lambert_conformal_conic_transform(elevation, lon, lat):\n",
    "    lat_rad = deg_to_rad(lat)\n",
    "    lon_rad = deg_to_rad(lon)\n",
    "    rho = R * F * math.pow(math.tan(math.pi / 4 + lat_rad / 2), -n)\n",
    "    theta = n * (lon_rad - deg_to_rad(lon_0))\n",
    "    x = rho * math.sin(theta)\n",
    "    y = rho_0 - rho * math.cos(theta)\n",
    "    return elevation, x, y\n",
    "\n",
    "# Apply the transformation to the entire DEM matrix\n",
    "def apply_projection(matrix_np):\n",
    "    transformed_matrix = np.empty(matrix_np.shape, dtype=object)\n",
    "    for y in range(matrix_np.shape[0]):\n",
    "        for x in range(matrix_np.shape[1]):\n",
    "            elev, lon, lat = matrix_np[y, x]\n",
    "            transformed_matrix[y, x] = lambert_conformal_conic_transform(elev, lon, lat)\n",
    "    return transformed_matrix\n",
    "\n",
    "# Assuming `matrix_np` is loaded with your DEM data\n",
    "# transformed_matrix_np = apply_projection(matrix_np)"
   ]
  },
  {
   "cell_type": "code",
   "execution_count": null,
   "metadata": {},
   "outputs": [],
   "source": [
    "psi = \n",
    "R = \n",
    "k = math.log(math.sin)\n",
    "lamda = \n"
   ]
  }
 ],
 "metadata": {
  "kernelspec": {
   "display_name": "GISvenv",
   "language": "python",
   "name": "python3"
  },
  "language_info": {
   "codemirror_mode": {
    "name": "ipython",
    "version": 3
   },
   "file_extension": ".py",
   "mimetype": "text/x-python",
   "name": "python",
   "nbconvert_exporter": "python",
   "pygments_lexer": "ipython3",
   "version": "3.10.6"
  }
 },
 "nbformat": 4,
 "nbformat_minor": 2
}
