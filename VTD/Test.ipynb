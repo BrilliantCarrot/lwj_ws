{
 "cells": [
  {
   "cell_type": "code",
   "execution_count": 9,
   "metadata": {},
   "outputs": [
    {
     "name": "stdout",
     "output_type": "stream",
     "text": [
      "1401.554573776485\n",
      "57.49999999999999\n"
     ]
    }
   ],
   "source": [
    "import math\n",
    "\n",
    "angle_degrees_1 = 57.5\n",
    "angle_degrees_2 = 71.37796\n",
    "h = 1100\n",
    "angle_radians_1 = math.radians(angle_degrees_1)\n",
    "angle_radians_2 = math.radians(angle_degrees_2)\n",
    "\n",
    "x = 2 * h / math.tan(angle_radians_1)\n",
    "print(x)\n",
    "\n",
    "y = 2 * h / math.tan(angle_radians_2)\n",
    "print(y)\n",
    "\n",
    "degree = math.atan2(1100,(x/2)) * 180 / math.pi\n",
    "print(degree)"
   ]
  }
 ],
 "metadata": {
  "kernelspec": {
   "display_name": "GISvenv",
   "language": "python",
   "name": "python3"
  },
  "language_info": {
   "codemirror_mode": {
    "name": "ipython",
    "version": 3
   },
   "file_extension": ".py",
   "mimetype": "text/x-python",
   "name": "python",
   "nbconvert_exporter": "python",
   "pygments_lexer": "ipython3",
   "version": "3.10.6"
  }
 },
 "nbformat": 4,
 "nbformat_minor": 2
}
