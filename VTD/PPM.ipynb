{
 "cells": [
  {
   "cell_type": "code",
   "execution_count": 5,
   "metadata": {},
   "outputs": [
    {
     "name": "stdout",
     "output_type": "stream",
     "text": [
      "1401.554573776485\n",
      "741.3240431197231\n"
     ]
    },
    {
     "data": {
      "text/plain": [
       "0.5010639001181154"
      ]
     },
     "execution_count": 5,
     "metadata": {},
     "output_type": "execute_result"
    }
   ],
   "source": [
    "# 카메라의 면적 구하기\n",
    "\n",
    "import math\n",
    "\n",
    "angle_degrees_1 = 57.5\n",
    "angle_degrees_2 = 71.37796\n",
    "h = 1100\n",
    "angle_radians_1 = math.radians(angle_degrees_1)\n",
    "angle_radians_2 = math.radians(angle_degrees_2)\n",
    "\n",
    "x = 2 * h / math.tan(angle_radians_1)\n",
    "print(x)\n",
    "\n",
    "y = 2 * h / math.tan(angle_radians_2)\n",
    "print(y)\n",
    "\n",
    "# degree = math.atan2(1100,(x/2)) * 180 / math.pi\n",
    "# print(degree)\n",
    "\n",
    "S = x*y\n",
    "S/(1920*1080)"
   ]
  },
  {
   "cell_type": "code",
   "execution_count": 1,
   "metadata": {},
   "outputs": [
    {
     "name": "stdout",
     "output_type": "stream",
     "text": [
      "Number of dark pixels: 6925\n"
     ]
    }
   ],
   "source": [
    "# PPM Count\n",
    "\n",
    "from PIL import Image\n",
    "import numpy as np\n",
    "\n",
    "def count_dark_pixels(image_path, threshold=50):\n",
    "    # 이미지를 로드하고 RGB로 변환\n",
    "    image = Image.open(image_path).convert('RGB')\n",
    "    \n",
    "    # 이미지를 numpy 배열로 변환\n",
    "    data = np.array(image)\n",
    "    \n",
    "    # 어두운 픽셀을 세기 위한 조건 설정\n",
    "    # R, G, B 각각의 값이 threshold 값 이하인 픽셀을 어두운 픽셀로 정의\n",
    "    dark_pixels = np.where((data[:,:,0] < threshold) & \n",
    "                           (data[:,:,1] < threshold) & \n",
    "                           (data[:,:,2] < threshold))\n",
    "    \n",
    "    # 어두운 픽셀의 수 계산\n",
    "    num_dark_pixels = len(dark_pixels[0])\n",
    "    \n",
    "    return num_dark_pixels\n",
    "\n",
    "# 이미지 파일 경로 지정\n",
    "image_path = \"C:/Users/leeyj/OneDrive - 인하대학교/School/과제/[국방 수직이착륙기 특화연구센터(VTD-13)]/자료/사진/ppm1.png\"\n",
    "# 어두운 픽셀의 수 출력\n",
    "print(\"Number of dark pixels:\", count_dark_pixels(image_path))"
   ]
  }
 ],
 "metadata": {
  "kernelspec": {
   "display_name": "GISvenv",
   "language": "python",
   "name": "python3"
  },
  "language_info": {
   "codemirror_mode": {
    "name": "ipython",
    "version": 3
   },
   "file_extension": ".py",
   "mimetype": "text/x-python",
   "name": "python",
   "nbconvert_exporter": "python",
   "pygments_lexer": "ipython3",
   "version": "3.10.6"
  }
 },
 "nbformat": 4,
 "nbformat_minor": 2
}
