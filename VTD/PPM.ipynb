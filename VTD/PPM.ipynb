{
 "cells": [
  {
   "cell_type": "code",
   "execution_count": 2,
   "metadata": {},
   "outputs": [],
   "source": [
    "import math\n",
    "import numpy as np\n",
    "import pandas as pd\n",
    "import matplotlib.pyplot as plt\n",
    "import cv2\n",
    "import os"
   ]
  },
  {
   "cell_type": "code",
   "execution_count": null,
   "metadata": {},
   "outputs": [],
   "source": [
    "# 카메라의 면적 구하기\n",
    "\n",
    "angle_degrees_1 = 57.5\n",
    "angle_degrees_2 = 71.37796\n",
    "h = 1100\n",
    "angle_radians_1 = math.radians(angle_degrees_1)\n",
    "angle_radians_2 = math.radians(angle_degrees_2)\n",
    "\n",
    "x = 2 * h / math.tan(angle_radians_1)\n",
    "print(x)\n",
    "\n",
    "y = 2 * h / math.tan(angle_radians_2)\n",
    "print(y)\n",
    "\n",
    "# degree = math.atan2(1100,(x/2)) * 180 / math.pi\n",
    "# print(degree)\n",
    "\n",
    "S = x*y\n",
    "S/(1920*1080)"
   ]
  },
  {
   "cell_type": "code",
   "execution_count": 2,
   "metadata": {},
   "outputs": [
    {
     "name": "stdout",
     "output_type": "stream",
     "text": [
      "1194.5229399104917\n"
     ]
    }
   ],
   "source": [
    "def calculate_distance(point1, point2):\n",
    "    # 두 점을 numpy 배열로 변환\n",
    "    point1 = np.array(point1)\n",
    "    point2 = np.array(point2)\n",
    "    \n",
    "    # 두 점 사이의 차이 계산\n",
    "    difference = point2 - point1\n",
    "    \n",
    "    # 유클리드 거리 계산\n",
    "    distance = np.linalg.norm(difference)\n",
    "    \n",
    "    return distance\n",
    "\n",
    "# 두 점의 좌표 설정\n",
    "point1 = (20408.03, 205.9421, 17528.64)  # 여기에 실제 좌표값을 넣으세요\n",
    "point2 = (19274.9, 447.4, 17819.5)  # 여기에 실제 좌표값을 넣으세요\n",
    "\n",
    "# 거리 계산\n",
    "distance = calculate_distance(point1, point2)\n",
    "print(distance)"
   ]
  },
  {
   "cell_type": "code",
   "execution_count": 3,
   "metadata": {},
   "outputs": [
    {
     "name": "stdout",
     "output_type": "stream",
     "text": [
      "두 점 사이의 거리: 1100.1775465676258\n"
     ]
    }
   ],
   "source": [
    "# 유니티상에서의 Vector3 거리를 계산\n",
    "# 카메라 2 1.1km 위치: (25434,129.4599,31560.6504)\n",
    "# 카메라 2 550 m 위치: (25434,129.4599,32110.4004)\n",
    "# 카메라 3 275 m 위치: (25434,129.4599,32386.4004)\n",
    "# 1100: 31561.3\n",
    "# 1000: 31661\n",
    "# 900: 31761\n",
    "# 800: 31861.3\n",
    "# 700: 31961.3\n",
    "# 600: 32061.3\n",
    "# 500: 32161.3\n",
    "# 400: 32261.4 \n",
    "# 300: 32361.4\n",
    "# 200: 32461.47\n",
    "# 100: 32561.62\n",
    "\n",
    "point1 = (12887,764,30592)                  # 헬기\n",
    "point2 = (11787,772.400024,30574.1094)      # 카메라\n",
    "distance = math.sqrt((point2[0] - point1[0])**2 + (point2[1] - point1[1])**2 + (point2[2] - point1[2])**2)\n",
    "print(\"두 점 사이의 거리:\", distance)\n",
    "\n"
   ]
  },
  {
   "cell_type": "markdown",
   "metadata": {},
   "source": [
    "이미지 마스킹을 통해 비 영역을 제거한 픽셀 검출용 영상 제작"
   ]
  },
  {
   "cell_type": "code",
   "execution_count": 9,
   "metadata": {},
   "outputs": [],
   "source": [
    "rain_image = cv2.imread(\"../../data/vtd/sky_rain/rain.png\")\n",
    "# snow_image = \n",
    "heli_image = cv2.imread(\"../../data/vtd/sky_rain/temp/0/09.png\")\n",
    "mask_image = cv2.cvtColor(rain_image,cv2.COLOR_BGR2RGB)\n",
    "# lower_bound = np.array([70, 70, 70])\n",
    "lower_bound = np.array([0, 0, 0])\n",
    "upper_bound = np.array([110, 110, 110])\n",
    "mask = cv2.inRange(mask_image, lower_bound, upper_bound)\n",
    "heli_image[mask != 0] = [0, 0, 0]\n",
    "\n",
    "cv2.imwrite('../../data/vtd/sky_rain/masked_heli_example.png', heli_image)\n",
    "cv2.imshow('mask image', mask)\n",
    "cv2.imshow('result image', heli_image)\n",
    "cv2.waitKey(0)\n",
    "cv2.destroyAllWindows()"
   ]
  },
  {
   "cell_type": "code",
   "execution_count": 12,
   "metadata": {},
   "outputs": [
    {
     "name": "stdout",
     "output_type": "stream",
     "text": [
      "RGB value at (8, 176): (115, 113, 111)\n",
      "RGB value at (8, 176): (115, 113, 111)\n",
      "RGB value at (8, 176): (115, 113, 111)\n",
      "RGB value at (17, 177): (115, 114, 113)\n",
      "RGB value at (49, 181): (109, 108, 106)\n",
      "RGB value at (80, 185): (115, 114, 113)\n",
      "RGB value at (125, 193): (115, 113, 111)\n",
      "RGB value at (150, 197): (115, 114, 113)\n",
      "RGB value at (188, 201): (115, 114, 113)\n",
      "RGB value at (208, 202): (115, 114, 113)\n",
      "RGB value at (213, 202): (115, 114, 113)\n",
      "RGB value at (216, 202): (115, 114, 113)\n",
      "RGB value at (218, 202): (115, 114, 113)\n",
      "RGB value at (218, 203): (115, 114, 113)\n",
      "RGB value at (217, 205): (115, 114, 113)\n",
      "RGB value at (216, 209): (115, 114, 113)\n",
      "RGB value at (213, 213): (115, 114, 113)\n",
      "RGB value at (207, 220): (115, 114, 113)\n",
      "RGB value at (205, 221): (115, 114, 113)\n",
      "RGB value at (200, 225): (104, 103, 102)\n",
      "RGB value at (192, 228): (112, 111, 110)\n",
      "RGB value at (184, 231): (115, 114, 113)\n",
      "RGB value at (180, 232): (115, 114, 113)\n",
      "RGB value at (172, 232): (115, 114, 113)\n",
      "RGB value at (168, 232): (115, 114, 113)\n",
      "RGB value at (165, 232): (115, 114, 113)\n",
      "RGB value at (163, 232): (115, 114, 113)\n",
      "RGB value at (162, 232): (115, 114, 113)\n",
      "RGB value at (161, 233): (115, 114, 113)\n",
      "RGB value at (160, 235): (115, 114, 113)\n",
      "RGB value at (149, 242): (115, 114, 113)\n",
      "RGB value at (121, 253): (112, 111, 110)\n",
      "RGB value at (56, 268): (115, 113, 111)\n",
      "RGB value at (17, 264): (115, 114, 113)\n",
      "RGB value at (34, 265): (108, 106, 105)\n",
      "RGB value at (44, 266): (115, 114, 113)\n",
      "RGB value at (58, 266): (115, 114, 113)\n",
      "RGB value at (69, 266): (115, 114, 113)\n",
      "RGB value at (72, 266): (115, 114, 113)\n",
      "RGB value at (79, 266): (115, 114, 113)\n",
      "RGB value at (81, 266): (115, 114, 113)\n",
      "RGB value at (82, 266): (115, 113, 111)\n",
      "RGB value at (83, 266): (115, 113, 111)\n",
      "RGB value at (84, 266): (115, 113, 111)\n",
      "RGB value at (86, 267): (115, 113, 111)\n",
      "RGB value at (87, 267): (112, 111, 109)\n",
      "RGB value at (88, 267): (112, 111, 109)\n",
      "RGB value at (90, 267): (112, 111, 109)\n",
      "RGB value at (91, 267): (112, 111, 109)\n",
      "RGB value at (94, 267): (106, 106, 103)\n",
      "RGB value at (96, 268): (106, 106, 103)\n",
      "RGB value at (98, 269): (0, 0, 0)\n",
      "RGB value at (100, 269): (0, 0, 0)\n",
      "RGB value at (101, 269): (0, 0, 0)\n",
      "RGB value at (102, 269): (0, 0, 0)\n",
      "RGB value at (103, 269): (0, 0, 0)\n",
      "RGB value at (104, 269): (0, 0, 0)\n",
      "RGB value at (105, 268): (0, 0, 0)\n",
      "RGB value at (111, 264): (0, 0, 0)\n",
      "RGB value at (121, 255): (112, 111, 110)\n",
      "RGB value at (130, 247): (115, 114, 113)\n",
      "RGB value at (132, 245): (115, 114, 113)\n",
      "RGB value at (142, 236): (115, 114, 113)\n",
      "RGB value at (149, 230): (115, 114, 113)\n",
      "RGB value at (149, 229): (115, 114, 113)\n",
      "RGB value at (150, 229): (115, 114, 113)\n"
     ]
    }
   ],
   "source": [
    "# 마우스 클릭 이벤트에 반응하여 픽셀 RGB를 찍는 콜백 함수 정의\n",
    "def show_rgb(event, x, y, flags, param):\n",
    "    if event == cv2.EVENT_MOUSEMOVE:\n",
    "        b, g, r = image[y, x]\n",
    "        print(f\"RGB value at ({x}, {y}): ({r}, {g}, {b})\")\n",
    "\n",
    "image = cv2.imread(\"../../data/vtd/sky_rain/rain.png\")\n",
    "cv2.namedWindow('Image')\n",
    "cv2.setMouseCallback('Image', show_rgb)\n",
    "while True:\n",
    "    cv2.imshow('Image', image)\n",
    "    if cv2.waitKey(1) & 0xFF == 27:\n",
    "        break\n",
    "cv2.destroyAllWindows()"
   ]
  },
  {
   "cell_type": "code",
   "execution_count": 28,
   "metadata": {},
   "outputs": [],
   "source": [
    "# 반복문을 통해 한 폴더 내 모든 이미지파일에 대해 마스크를 적용\n",
    "# 매트랩에서 ppm 검출 전 이 코드를 실행하여 \n",
    "# temp 파일을 읽고 final 파일의 알맞은 고각 폴더에 파일을 옮긴다\n",
    "\n",
    "rain_image = cv2.imread(\"../../data/vtd/sky_rain/rain.png\")\n",
    "mask_image = cv2.cvtColor(rain_image, cv2.COLOR_BGR2RGB)    # 마스크로 쓸 비가 촬영된 영상\n",
    "lower_bound = np.array([0, 0, 0])\n",
    "upper_bound = np.array([110, 110, 110])                     # 비의 RGB값을 검출할 경계 설정\n",
    "mask = cv2.inRange(mask_image, lower_bound, upper_bound)\n",
    "source_folder = \"../../data/vtd/sky_rain/temp/180\"\n",
    "output_folder = \"../../data/vtd/sky_rain/final\"\n",
    "\n",
    "# if not os.path.exists(output_folder):\n",
    "#     os.makedirs(output_folder)\n",
    "\n",
    "for i in range(19):\n",
    "    filename = f\"{i:02}.png\"    # 00.png, 01.png, ..., 18.png 등의 이름 형식 이미지들에 대해 반복문 수행\n",
    "    heli_image_path = os.path.join(source_folder, filename)\n",
    "    heli_image = cv2.imread(heli_image_path)\n",
    "    heli_image[mask != 0] = [0, 0, 0]\n",
    "    output_path = os.path.join(output_folder, filename)\n",
    "    cv2.imwrite(output_path, heli_image)"
   ]
  },
  {
   "cell_type": "code",
   "execution_count": 7,
   "metadata": {},
   "outputs": [],
   "source": [
    "# 이미지 잘 불러와지는지 테스트용\n",
    "\n",
    "# rain_image = cv2.imread(\"../../data/vtd/sky_rain/rain.png\")\n",
    "# if rain_image is None:\n",
    "#     print(\"Error: Image not found or path is incorrect\")\n",
    "# else:\n",
    "#     cv2.imshow('image', rain_image)\n",
    "#     cv2.waitKey(0)\n",
    "#     cv2.destroyAllWindows()"
   ]
  }
 ],
 "metadata": {
  "kernelspec": {
   "display_name": "GISvenv",
   "language": "python",
   "name": "python3"
  },
  "language_info": {
   "codemirror_mode": {
    "name": "ipython",
    "version": 3
   },
   "file_extension": ".py",
   "mimetype": "text/x-python",
   "name": "python",
   "nbconvert_exporter": "python",
   "pygments_lexer": "ipython3",
   "version": "3.10.6"
  }
 },
 "nbformat": 4,
 "nbformat_minor": 2
}
