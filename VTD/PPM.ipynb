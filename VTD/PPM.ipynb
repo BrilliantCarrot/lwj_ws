{
 "cells": [
  {
   "cell_type": "code",
   "execution_count": 2,
   "metadata": {},
   "outputs": [],
   "source": [
    "import math\n",
    "import numpy as np"
   ]
  },
  {
   "cell_type": "code",
   "execution_count": null,
   "metadata": {},
   "outputs": [],
   "source": [
    "# 카메라의 면적 구하기\n",
    "\n",
    "angle_degrees_1 = 57.5\n",
    "angle_degrees_2 = 71.37796\n",
    "h = 1100\n",
    "angle_radians_1 = math.radians(angle_degrees_1)\n",
    "angle_radians_2 = math.radians(angle_degrees_2)\n",
    "\n",
    "x = 2 * h / math.tan(angle_radians_1)\n",
    "print(x)\n",
    "\n",
    "y = 2 * h / math.tan(angle_radians_2)\n",
    "print(y)\n",
    "\n",
    "# degree = math.atan2(1100,(x/2)) * 180 / math.pi\n",
    "# print(degree)\n",
    "\n",
    "S = x*y\n",
    "S/(1920*1080)"
   ]
  },
  {
   "cell_type": "code",
   "execution_count": 1,
   "metadata": {},
   "outputs": [
    {
     "name": "stdout",
     "output_type": "stream",
     "text": [
      "The Euclidean distance between the two points is: 1194.5229399104917\n"
     ]
    }
   ],
   "source": [
    "def calculate_distance(point1, point2):\n",
    "    # 두 점을 numpy 배열로 변환\n",
    "    point1 = np.array(point1)\n",
    "    point2 = np.array(point2)\n",
    "    \n",
    "    # 두 점 사이의 차이 계산\n",
    "    difference = point2 - point1\n",
    "    \n",
    "    # 유클리드 거리 계산\n",
    "    distance = np.linalg.norm(difference)\n",
    "    \n",
    "    return distance\n",
    "\n",
    "# 두 점의 좌표 설정\n",
    "point1 = (20408.03, 205.9421, 17528.64)  # 여기에 실제 좌표값을 넣으세요\n",
    "point2 = (19274.9, 447.4, 17819.5)  # 여기에 실제 좌표값을 넣으세요\n",
    "\n",
    "# 거리 계산\n",
    "distance = calculate_distance(point1, point2)\n",
    "print(\"The Euclidean distance between the two points is:\", distance)"
   ]
  },
  {
   "cell_type": "code",
   "execution_count": 5,
   "metadata": {},
   "outputs": [
    {
     "name": "stdout",
     "output_type": "stream",
     "text": [
      "두 점 사이의 거리: 1158.5275109452673\n"
     ]
    }
   ],
   "source": [
    "# 유니티상에서의 Vector3 거리를 계산\n",
    "\n",
    "# 벡터 좌표 정의\n",
    "point1 = (25436.1992,129.565125,32661.332)\n",
    "point2 = (25434,134,31539)\n",
    "# 두 점 사이의 유클리드 거리 계산\n",
    "distance = math.sqrt((point2[0] - point1[0])**2 + (point2[1] - point1[1])**2 + (point2[2] - point1[2])**2)\n",
    "print(\"두 점 사이의 거리:\", distance)"
   ]
  }
 ],
 "metadata": {
  "kernelspec": {
   "display_name": "GISvenv",
   "language": "python",
   "name": "python3"
  },
  "language_info": {
   "codemirror_mode": {
    "name": "ipython",
    "version": 3
   },
   "file_extension": ".py",
   "mimetype": "text/x-python",
   "name": "python",
   "nbconvert_exporter": "python",
   "pygments_lexer": "ipython3",
   "version": "3.10.6"
  }
 },
 "nbformat": 4,
 "nbformat_minor": 2
}
