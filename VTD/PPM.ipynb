{
 "cells": [
  {
   "cell_type": "code",
   "execution_count": 5,
   "metadata": {},
   "outputs": [
    {
     "name": "stdout",
     "output_type": "stream",
     "text": [
      "1401.554573776485\n",
      "741.3240431197231\n"
     ]
    },
    {
     "data": {
      "text/plain": [
       "0.5010639001181154"
      ]
     },
     "execution_count": 5,
     "metadata": {},
     "output_type": "execute_result"
    }
   ],
   "source": [
    "# 카메라의 면적 구하기\n",
    "\n",
    "import math\n",
    "\n",
    "angle_degrees_1 = 57.5\n",
    "angle_degrees_2 = 71.37796\n",
    "h = 1100\n",
    "angle_radians_1 = math.radians(angle_degrees_1)\n",
    "angle_radians_2 = math.radians(angle_degrees_2)\n",
    "\n",
    "x = 2 * h / math.tan(angle_radians_1)\n",
    "print(x)\n",
    "\n",
    "y = 2 * h / math.tan(angle_radians_2)\n",
    "print(y)\n",
    "\n",
    "# degree = math.atan2(1100,(x/2)) * 180 / math.pi\n",
    "# print(degree)\n",
    "\n",
    "S = x*y\n",
    "S/(1920*1080)"
   ]
  },
  {
   "cell_type": "code",
   "execution_count": 1,
   "metadata": {},
   "outputs": [
    {
     "name": "stdout",
     "output_type": "stream",
     "text": [
      "The Euclidean distance between the two points is: 1194.5229399104917\n"
     ]
    }
   ],
   "source": [
    "import numpy as np\n",
    "\n",
    "def calculate_distance(point1, point2):\n",
    "    # 두 점을 numpy 배열로 변환\n",
    "    point1 = np.array(point1)\n",
    "    point2 = np.array(point2)\n",
    "    \n",
    "    # 두 점 사이의 차이 계산\n",
    "    difference = point2 - point1\n",
    "    \n",
    "    # 유클리드 거리 계산\n",
    "    distance = np.linalg.norm(difference)\n",
    "    \n",
    "    return distance\n",
    "\n",
    "# 두 점의 좌표 설정\n",
    "point1 = (20408.03, 205.9421, 17528.64)  # 여기에 실제 좌표값을 넣으세요\n",
    "point2 = (19274.9, 447.4, 17819.5)  # 여기에 실제 좌표값을 넣으세요\n",
    "\n",
    "# 거리 계산\n",
    "distance = calculate_distance(point1, point2)\n",
    "print(\"The Euclidean distance between the two points is:\", distance)"
   ]
  }
 ],
 "metadata": {
  "kernelspec": {
   "display_name": "GISvenv",
   "language": "python",
   "name": "python3"
  },
  "language_info": {
   "codemirror_mode": {
    "name": "ipython",
    "version": 3
   },
   "file_extension": ".py",
   "mimetype": "text/x-python",
   "name": "python",
   "nbconvert_exporter": "python",
   "pygments_lexer": "ipython3",
   "version": "3.10.6"
  }
 },
 "nbformat": 4,
 "nbformat_minor": 2
}
