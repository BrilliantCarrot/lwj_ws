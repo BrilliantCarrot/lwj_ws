{
 "cells": [
  {
   "cell_type": "code",
   "execution_count": 2,
   "metadata": {},
   "outputs": [
    {
     "name": "stdout",
     "output_type": "stream",
     "text": [
      " C ����̺��� �������� �̸��� �����ϴ�.\n",
      " ���� �Ϸ� ��ȣ: 48B8-21D1\n",
      "\n",
      " c:\\Users\\admin\\unity_project\\Seminal_Project_Test\\Assets\\Drone\\Scripts ���͸�\n",
      "\n",
      "2023-09-18  ���� 03:21    <DIR>          .\n",
      "2023-09-18  ���� 03:21    <DIR>          ..\n",
      "2023-09-14  ���� 05:06            11,555 07.ddpg.py\n",
      "2023-09-18  ���� 02:03             3,205 DroneAgent.cs\n",
      "2023-09-18  ���� 01:35               243 DroneAgent.cs.meta\n",
      "2023-09-18  ���� 02:00             1,626 DroneSetting.cs\n",
      "2023-09-18  ���� 01:35               243 DroneSetting.cs.meta\n",
      "2023-09-18  ���� 03:21                 0 test.ipynb\n",
      "               6�� ����              16,872 ����Ʈ\n",
      "               2�� ���͸�  243,807,002,624 ����Ʈ ����\n"
     ]
    }
   ],
   "source": [
    "!dir"
   ]
  }
 ],
 "metadata": {
  "kernelspec": {
   "display_name": "unity_venv",
   "language": "python",
   "name": "python3"
  },
  "language_info": {
   "codemirror_mode": {
    "name": "ipython",
    "version": 3
   },
   "file_extension": ".py",
   "mimetype": "text/x-python",
   "name": "python",
   "nbconvert_exporter": "python",
   "pygments_lexer": "ipython3",
   "version": "3.7.9"
  },
  "orig_nbformat": 4
 },
 "nbformat": 4,
 "nbformat_minor": 2
}
