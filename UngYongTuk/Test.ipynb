{
 "cells": [
  {
   "cell_type": "code",
   "execution_count": 4,
   "metadata": {},
   "outputs": [],
   "source": [
    "import numpy as np\n",
    "\n",
    "# Define the stiffness matrix K for c2 = 10\n",
    "K_c2_10 = np.array([[11, -10, 0],\n",
    "                    [-10, 11, -1],\n",
    "                    [0, -1, 1]])\n",
    "\n",
    "# Force vector f\n",
    "f = np.array([1, 1, 1])\n",
    "\n",
    "# Calculate the inverse of K\n",
    "K_inv_c2_10 = np.linalg.inv(K_c2_10)\n",
    "\n",
    "# Compute u = K^(-1) * f\n",
    "u_c2_10 = K_inv_c2_10.dot(f)\n",
    "\n",
    "# For c2 = 100\n",
    "K_c2_100 = np.array([[101, -100, 0],\n",
    "                     [-100, 101, -1],\n",
    "                     [0, -1, 1]])\n",
    "\n",
    "# Calculate the inverse of K for c2 = 100\n",
    "K_inv_c2_100 = np.linalg.inv(K_c2_100)\n",
    "\n",
    "# Compute u = K^(-1) * f for c2 = 100\n",
    "u_c2_100 = K_inv_c2_100.dot(f)\n",
    "\n",
    "# K_inv_c2_10, u_c2_10, K_inv_c2_100, u_c2_100"
   ]
  },
  {
   "cell_type": "code",
   "execution_count": 2,
   "metadata": {},
   "outputs": [
    {
     "data": {
      "text/plain": [
       "array([[1. , 1. , 1. ],\n",
       "       [1. , 1.1, 1.1],\n",
       "       [1. , 1.1, 2.1]])"
      ]
     },
     "execution_count": 2,
     "metadata": {},
     "output_type": "execute_result"
    }
   ],
   "source": [
    "K_inv_c2_10"
   ]
  },
  {
   "cell_type": "code",
   "execution_count": 3,
   "metadata": {},
   "outputs": [
    {
     "data": {
      "text/plain": [
       "array([3. , 3.2, 4.2])"
      ]
     },
     "execution_count": 3,
     "metadata": {},
     "output_type": "execute_result"
    }
   ],
   "source": [
    "u_c2_10"
   ]
  }
 ],
 "metadata": {
  "kernelspec": {
   "display_name": "GISvenv",
   "language": "python",
   "name": "python3"
  },
  "language_info": {
   "codemirror_mode": {
    "name": "ipython",
    "version": 3
   },
   "file_extension": ".py",
   "mimetype": "text/x-python",
   "name": "python",
   "nbconvert_exporter": "python",
   "pygments_lexer": "ipython3",
   "version": "3.10.6"
  }
 },
 "nbformat": 4,
 "nbformat_minor": 2
}
